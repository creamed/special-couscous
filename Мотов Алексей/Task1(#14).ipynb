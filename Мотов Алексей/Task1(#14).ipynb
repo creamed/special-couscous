{
 "cells": [
  {
   "cell_type": "raw",
   "metadata": {},
   "source": [
    "14. Заданы координаты точек в трехмерном пространстве (не более 17). Упорядочить их по трем координатам, причем приоритет координат задается и может быть произвольным (например, по Y, затем поX, затем поZ)."
   ]
  },
  {
   "cell_type": "code",
   "execution_count": 6,
   "metadata": {
    "collapsed": true
   },
   "outputs": [],
   "source": [
    "import random\n",
    "import math"
   ]
  },
  {
   "cell_type": "raw",
   "metadata": {},
   "source": [
    "Генерируем случайные точки в трехмерном пространстве"
   ]
  },
  {
   "cell_type": "code",
   "execution_count": 7,
   "metadata": {},
   "outputs": [
    {
     "name": "stdout",
     "output_type": "stream",
     "text": [
      "[[2, -5, -3], [3, 3, -4], [1, 4, 4], [3, 4, 2], [-3, -1, -2], [-2, 2, 3], [1, -4, 2], [-4, -4, 0], [2, -2, -5], [-2, 1, 2], [-4, -1, 3], [4, -2, 0], [-3, -1, 3], [1, -3, -4], [4, -3, -3]]\n"
     ]
    }
   ],
   "source": [
    "n=3 #количество координат\n",
    "m=15 #количество точек\n",
    "coords = [[random.randrange(-5, 5, 1) for j in range(n)] for i in range(m)] #функция для генерации случайных координат точек\n",
    "print(coords)"
   ]
  },
  {
   "cell_type": "raw",
   "metadata": {},
   "source": [
    "Сортировка по приоритету x, y, z"
   ]
  },
  {
   "cell_type": "code",
   "execution_count": 8,
   "metadata": {},
   "outputs": [
    {
     "name": "stdout",
     "output_type": "stream",
     "text": [
      "[[4, -2, 0], [4, -3, -3], [3, 4, 2], [3, 3, -4], [2, -2, -5], [2, -5, -3], [1, 4, 4], [1, -3, -4], [1, -4, 2], [-2, 2, 3], [-2, 1, 2], [-3, -1, 3], [-3, -1, -2], [-4, -1, 3], [-4, -4, 0]]\n"
     ]
    }
   ],
   "source": [
    "s = sorted(coords, key = lambda x: (-x[0], -x[1], -x[2]))\n",
    "print (s)"
   ]
  },
  {
   "cell_type": "raw",
   "metadata": {},
   "source": [
    "Сортировка по приоритету y, z, x"
   ]
  },
  {
   "cell_type": "code",
   "execution_count": 9,
   "metadata": {},
   "outputs": [
    {
     "name": "stdout",
     "output_type": "stream",
     "text": [
      "[[1, 4, 4], [3, 4, 2], [3, 3, -4], [-2, 2, 3], [-2, 1, 2], [-3, -1, 3], [-4, -1, 3], [-3, -1, -2], [4, -2, 0], [2, -2, -5], [4, -3, -3], [1, -3, -4], [1, -4, 2], [-4, -4, 0], [2, -5, -3]]\n"
     ]
    }
   ],
   "source": [
    "s = sorted(coords, key = lambda x: (-x[1],  -x[2], -x[0]))\n",
    "print (s)"
   ]
  },
  {
   "cell_type": "raw",
   "metadata": {},
   "source": [
    "Сортировка по приоритету z, x, y"
   ]
  },
  {
   "cell_type": "code",
   "execution_count": 10,
   "metadata": {},
   "outputs": [
    {
     "name": "stdout",
     "output_type": "stream",
     "text": [
      "[[1, 4, 4], [-2, 2, 3], [-3, -1, 3], [-4, -1, 3], [3, 4, 2], [1, -4, 2], [-2, 1, 2], [4, -2, 0], [-4, -4, 0], [-3, -1, -2], [4, -3, -3], [2, -5, -3], [3, 3, -4], [1, -3, -4], [2, -2, -5]]\n"
     ]
    }
   ],
   "source": [
    "s = sorted(coords, key = lambda x: (-x[2],  -x[0], -x[1]))\n",
    "print (s)"
   ]
  },
  {
   "cell_type": "code",
   "execution_count": null,
   "metadata": {
    "collapsed": true
   },
   "outputs": [],
   "source": [
    "#и так далее"
   ]
  }
 ],
 "metadata": {
  "kernelspec": {
   "display_name": "Python 3",
   "language": "python",
   "name": "python3"
  },
  "language_info": {
   "codemirror_mode": {
    "name": "ipython",
    "version": 3
   },
   "file_extension": ".py",
   "mimetype": "text/x-python",
   "name": "python",
   "nbconvert_exporter": "python",
   "pygments_lexer": "ipython3",
   "version": "3.6.2"
  }
 },
 "nbformat": 4,
 "nbformat_minor": 2
}
